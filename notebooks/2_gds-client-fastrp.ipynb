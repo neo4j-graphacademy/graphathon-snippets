{
 "cells": [
  {
   "cell_type": "markdown",
   "id": "912160cb",
   "metadata": {},
   "source": [
    "## Before you get started\n",
    "\n",
    "If you have come here from the first notebook, '1_gds-client-leiden.ipynb', you should already be connected to an instance.\n",
    "\n",
    "If you are following along with [the movies dataset](https://github.com/neo4j-graph-examples/recommendations/blob/main/data/recommendations-50.dump), adjust the connection details to your own instance and the rest should run correctly.\n",
    "\n",
    "If you are using a different dataset, make sure you adjust the labels and properties as needed for your graph. "
   ]
  },
  {
   "cell_type": "markdown",
   "id": "d2ef6300",
   "metadata": {},
   "source": [
    "## **FastRP**\n",
    "In this notebook, you'll learn:\n",
    "- What embeddings and FastRP are. [Feel free to skip](#implementing-fastrp).\n",
    "- How to create FastRP embeddings from the GDS Python client.\n",
    "\n",
    "### What are embeddings?\n",
    "- Embeddings are coordinates assigned to objects in a made up digital space ('vector space'). They are usually -- but not always -- used to identify the similarities of objects to one another. For our purposes, 'Embedding' and 'Vector' mean the same thing.\n",
    "\n",
    "### Why would I do that?\n",
    "\n",
    "**Sentence Embeddings:** You want to know which sentences in a corpus of texts are the most similar. If you embed the semantic meaning of the sentences, you can extract clusters of similar sentences.\n",
    "\n",
    "**Node Embeddings** You have a bunch of nodes (Users) in a graph database which exhibit certain behaviours. If you embed those nodes for similarity, you can cluster users by behavioural characteristics.\n",
    "\n",
    "### Which one are we doing here? \n",
    "- Node embeddings using FastRP in Neo4j GDS.\n",
    "\n",
    "### What is it?\n",
    "FastRP:\n",
    "- Gives each of your nodes a coordinate position, based on how similar each node is to every other node. It assesses where each node would live within a pre-computed space.\n",
    "- In GDS you have the added option of using properties as weights when calculating FastRP embeddings.\n",
    "- If you like, you can [read the FastRP paper here](https://doi.org/10.48550/arXiv.1908.11512)."
   ]
  },
  {
   "cell_type": "markdown",
   "id": "7a4b880b",
   "metadata": {},
   "source": [
    "You might then filter to only choose recommendations from the topK 10, 20 or 30 movies.\n",
    "\n",
    "The video below demonstrates what we're actually doing when we ask for topK 10 most similar nodes. "
   ]
  },
  {
   "cell_type": "markdown",
   "id": "5a2c9462",
   "metadata": {},
   "source": [
    "<div style=\"padding:44.79% 0 0 0;position:relative;\"><iframe src=\"https://player.vimeo.com/video/1122499506?badge=0&amp;autopause=0&amp;player_id=0&amp;app_id=58479\" frameborder=\"0\" allow=\"autoplay; fullscreen; picture-in-picture; clipboard-write; encrypted-media; web-share\" referrerpolicy=\"strict-origin-when-cross-origin\" style=\"position:absolute;top:0;left:0;width:100%;height:100%;\" title=\"milk_vid\"></iframe></div><script src=\"https://player.vimeo.com/api/player.js\"></script>\n",
    "\n",
    "If the player doesn't work, feel free to watch here:\n",
    "https://vimeo.com/1122454601"
   ]
  },
  {
   "cell_type": "markdown",
   "id": "ab625dee",
   "metadata": {},
   "source": [
    "Fast RP is not literally _moving_ nodes around. It is analysing them to see how similar they _already_ are."
   ]
  },
  {
   "cell_type": "markdown",
   "id": "208f9c16",
   "metadata": {},
   "source": [
    "**Why use it:** \n",
    "- Fast RP can be great addition to a recommendations application. For example, with our graph you could grab the top-10 (topK 10) nearest Movie nodes to each user node, filter by those already seen by the user, and then provide the remainder as recommendations.\n",
    "- You may find that using Community Detection and FastRP together, you find user-specific recommendations that you would not otherwise have found. \n",
    "\n",
    "**Consider this scenario:**\n",
    "A user tends to watch high-octane action movies along with the odd horror. If we built a recommendation engine based solely on their favourite movies, we would miss other behavioural quirks. For example, every other month -- without fail -- this user also watches three romantic-comedies in sequence. \n",
    "Their genre profile ignores the romantic-comedy. Their Leiden community with FastRP backup, however, might move them into a group of users who demonstrate similar watching behaviours. Their user group can now receive recommendations for action, horror and romantic-comedies. Those particular recommendations won't be generic either. They will be based on the behaviours of other people displaying similar behaviours to our user.\n",
    "\n",
    "You can likely think of several reasons for this behaviour. The beauty is, you don't need to."
   ]
  },
  {
   "cell_type": "markdown",
   "id": "c2645a57",
   "metadata": {},
   "source": [
    "**But...** In practice, dense nodes in a network can have a strong gravitational effect. So, if you based a recommendation engine on Fast RP embeddings alone, you would likely end up with one super node dominating all recommendations. As with Leiden, this is not necessarily a bad thing -- it just depends on your intent.\n",
    "\n",
    "**Example:** Let's say you are a massive movie platform, and you want X-number of users to see Y-movie for Z-business-reason. Your intent then is not 'recommend movies people will like'. It is 'recommend movies we need users to watch to users who may be most partial'. If that is the case, you could run FastRP on all nodes, and then find the users who are most similar to that movie. If you need 1000 users to watch it to hit a KPI, just increase topK to find the users who are likely to be more partial to it. \n",
    "\n",
    "**Contrast:** Let's say you are a boutique arthouse platform with a large, diverse offering of lesser-known titles. You want to ensure that users can easily find titles they are most likely to enjoy. In this case, you might:\n",
    "- Run Community Detection (Leiden or Louvain) to identify distinct clusters of users.\n",
    "- Run FastRP\n",
    "- Filter allowable recommendations by ensuring that the users' communityIds match the movies' communityIds. In this way, you can go super granular, and get the best movie within a cluster of people, rather than for the entire set.\n",
    "\n",
    "Bear in mind, these are just some ideas. You could take an entirely different approach. It really is up to you."
   ]
  },
  {
   "cell_type": "markdown",
   "id": "6ae222e4",
   "metadata": {},
   "source": [
    "### Set up the GDS Python Client and connect to an instance\n",
    "\n",
    "1. Install GDS and Pandas. \n",
    "\n",
    "***Note:*** _You do not need pandas to run the GDS client. We're including it here to demonstrate how you can query with GDS and use the outputs in a familiar format._"
   ]
  },
  {
   "cell_type": "code",
   "execution_count": null,
   "id": "2b46e19f",
   "metadata": {},
   "outputs": [],
   "source": [
    "%pip install graphdatascience pandas"
   ]
  },
  {
   "cell_type": "markdown",
   "id": "88bd6b19",
   "metadata": {},
   "source": [
    "2. Connect to your instance. \n",
    "\n",
    "    This assumes you already have an instance running.\n",
    "\n",
    "    Replace my details with your details and hit run."
   ]
  },
  {
   "cell_type": "code",
   "execution_count": null,
   "id": "f67efd02",
   "metadata": {},
   "outputs": [
    {
     "name": "stdout",
     "output_type": "stream",
     "text": [
      "All systems are go. GDS Version: 2.21.0\n"
     ]
    }
   ],
   "source": [
    "from graphdatascience import GraphDataScience\n",
    "from graphdatascience import ServerVersion\n",
    "\n",
    "# Use Neo4j URI and credentials according to your setup\n",
    "# NEO4J_URI could look similar to \"bolt://my-server.neo4j.io:7687\"\n",
    "\n",
    "NEO4J_URI = \"your_uri\"                # If on a local instance, something like \"neo4j://127.0.0.1:7687\"\n",
    "NEO4J_USER = \"your_username\"          # Probably \"neo4j\"\n",
    "NEO4J_PASSWORD = \"your_password\" \n",
    "\n",
    "gds = GraphDataScience(\n",
    "  NEO4J_URI,\n",
    "  auth=(\n",
    "    NEO4J_USER,\n",
    "    NEO4J_PASSWORD\n",
    "  ),\n",
    "  database = \"database_name\"          # If using the movies dump, it is likely \"recommendations-embeddings-50\"\n",
    ")\n",
    "\n",
    "# Check the installed GDS version on the server\n",
    "print(rf\"All systems are go. GDS Version: {gds.server_version()}\")\n",
    "assert gds.server_version() >= ServerVersion(1, 8, 0)"
   ]
  },
  {
   "cell_type": "markdown",
   "id": "13e073c5",
   "metadata": {},
   "source": [
    "#### Troubleshooting\n",
    "Make sure:\n",
    "1. You have the URI from the correct instance\n",
    "2. Your password is correct\n",
    "3. Your username is correct\n",
    "4. Your database name is correct -- this will be different from your project name"
   ]
  },
  {
   "cell_type": "markdown",
   "id": "476c6a0a",
   "metadata": {},
   "source": [
    "### Helpers\n",
    "The following two cells will:\n",
    "- Drop the graph from memory\n",
    "- Remove any properties we created\n",
    "\n",
    "Only use them if you want to start again."
   ]
  },
  {
   "cell_type": "code",
   "execution_count": 27,
   "id": "05147131",
   "metadata": {},
   "outputs": [
    {
     "data": {
      "text/plain": [
       "graphName                                                           fastrp\n",
       "database                                     recommendations-embeddings-50\n",
       "databaseLocation                                                     local\n",
       "memoryUsage                                                               \n",
       "sizeInBytes                                                             -1\n",
       "nodeCount                                                             9816\n",
       "relationshipCount                                                   200008\n",
       "configuration            {'relationshipProjection': {'RATED': {'aggrega...\n",
       "density                                                           0.002076\n",
       "creationTime                           2025-09-27T19:18:51.977746000+01:00\n",
       "modificationTime                       2025-09-27T19:19:00.101949000+01:00\n",
       "schema                   {'graphProperties': {}, 'nodes': {'User': {'em...\n",
       "schemaWithOrientation    {'graphProperties': {}, 'nodes': {'User': {'em...\n",
       "Name: 0, dtype: object"
      ]
     },
     "execution_count": 27,
     "metadata": {},
     "output_type": "execute_result"
    }
   ],
   "source": [
    "# To drop the graph from memory:\n",
    "gds.graph.drop('fastrp')"
   ]
  },
  {
   "cell_type": "code",
   "execution_count": 28,
   "id": "ebf7ab2f",
   "metadata": {},
   "outputs": [
    {
     "data": {
      "text/html": [
       "<div>\n",
       "<style scoped>\n",
       "    .dataframe tbody tr th:only-of-type {\n",
       "        vertical-align: middle;\n",
       "    }\n",
       "\n",
       "    .dataframe tbody tr th {\n",
       "        vertical-align: top;\n",
       "    }\n",
       "\n",
       "    .dataframe thead th {\n",
       "        text-align: right;\n",
       "    }\n",
       "</style>\n",
       "<table border=\"1\" class=\"dataframe\">\n",
       "  <thead>\n",
       "    <tr style=\"text-align: right;\">\n",
       "      <th></th>\n",
       "    </tr>\n",
       "  </thead>\n",
       "  <tbody>\n",
       "  </tbody>\n",
       "</table>\n",
       "</div>"
      ],
      "text/plain": [
       "Empty DataFrame\n",
       "Columns: []\n",
       "Index: []"
      ]
     },
     "execution_count": 28,
     "metadata": {},
     "output_type": "execute_result"
    }
   ],
   "source": [
    "# To remove embeddings written to the main graph\n",
    "gds.run_cypher (\n",
    "\"\"\"\n",
    "    MATCH (n)\n",
    "    WHERE n.embedding IS NOT NULL\n",
    "    REMOVE n.embedding\n",
    "\"\"\"\n",
    ")"
   ]
  },
  {
   "cell_type": "code",
   "execution_count": 29,
   "id": "acc91353",
   "metadata": {},
   "outputs": [
    {
     "data": {
      "text/html": [
       "<div>\n",
       "<style scoped>\n",
       "    .dataframe tbody tr th:only-of-type {\n",
       "        vertical-align: middle;\n",
       "    }\n",
       "\n",
       "    .dataframe tbody tr th {\n",
       "        vertical-align: top;\n",
       "    }\n",
       "\n",
       "    .dataframe thead th {\n",
       "        text-align: right;\n",
       "    }\n",
       "</style>\n",
       "<table border=\"1\" class=\"dataframe\">\n",
       "  <thead>\n",
       "    <tr style=\"text-align: right;\">\n",
       "      <th></th>\n",
       "    </tr>\n",
       "  </thead>\n",
       "  <tbody>\n",
       "  </tbody>\n",
       "</table>\n",
       "</div>"
      ],
      "text/plain": [
       "Empty DataFrame\n",
       "Columns: []\n",
       "Index: []"
      ]
     },
     "execution_count": 29,
     "metadata": {},
     "output_type": "execute_result"
    }
   ],
   "source": [
    "# To remove relationships written to the main graph\n",
    "gds.run_cypher(\n",
    "\"\"\"\n",
    "    MATCH (n)-[r:SIMILAR]->(k)\n",
    "    DELETE r\n",
    "\"\"\"\n",
    ")"
   ]
  },
  {
   "cell_type": "markdown",
   "id": "24956d9c",
   "metadata": {},
   "source": [
    "### Project your nodes and relationships\n",
    "\n",
    "Projecting graphs from the GDS Client is 1000x simpler than in the Browser. If you don't know what 'Project' means yet, don't worry. Let's just do it first, and then analyse what happened.\n",
    "\n",
    "1. Assign a variable to the nodes you want to analyse.\n",
    "2. Assign a variable to the relationships you want to analyse. Make sure you use the correct directionality for these relationships. \n",
    "    Leiden, the algorithm we're about to run, _cannot_ run on DIRECTED relationships. You can [check the requirements for each algorithm in the docs.](https://neo4j.com/docs/graph-data-science/current/algorithms/leiden/)\n",
    "3. Project\n",
    "\n",
    "It's generally good practice to check how much memory a graph will actually use first, and then project a graph -- so let's do that.\n",
    "\n",
    "### Set up for FastRP \n",
    "\n",
    "With FastRP in GDS, you can also embed the numeric properties of nodes as context weights. \n",
    "\n",
    "The projection we created in the gds-client-leiden notebook did not include any properties.\n",
    "\n",
    "So, we're going to spin up a new projection with the rating property included."
   ]
  },
  {
   "cell_type": "code",
   "execution_count": 30,
   "id": "fd6d88e1",
   "metadata": {},
   "outputs": [
    {
     "name": "stdout",
     "output_type": "stream",
     "text": [
      "Required memory for native loading: [5573 KiB ... 5765 KiB]\n"
     ]
    }
   ],
   "source": [
    "# We define how we want to project our database into GDS\n",
    "node_projection = ['User', 'Movie', 'Genre']\n",
    "relationship_projection = {'RATED': {'orientation': 'UNDIRECTED', 'properties': 'rating'}}\n",
    "\n",
    "# Before actually going through with the projection, let's check how much memory is required\n",
    "result = gds.graph.project.estimate(node_projection, relationship_projection)\n",
    "\n",
    "print(f\"Required memory for native loading: {result['requiredMemory']}\")"
   ]
  },
  {
   "cell_type": "code",
   "execution_count": 31,
   "id": "72d3cb99",
   "metadata": {},
   "outputs": [
    {
     "name": "stdout",
     "output_type": "stream",
     "text": [
      "The projection took 31 ms\n",
      "Graph 'fastrp' node count: 9816\n",
      "Graph 'fastrp' node labels: ['User', 'Movie', 'Genre']\n"
     ]
    }
   ],
   "source": [
    "# FastRP can run on directed relationships. However, it performs better on UNDIRECTED, so we'll stick with that.\n",
    "G, result = gds.graph.project('fastrp', node_projection, relationship_projection)\n",
    "\n",
    "print(f\"The projection took {result['projectMillis']} ms\")\n",
    "\n",
    "# We can use convenience methods on `G` to check if the projection looks correct\n",
    "print(f\"Graph '{G.name()}' node count: {G.node_count()}\")\n",
    "print(f\"Graph '{G.name()}' node labels: {G.node_labels()}\")"
   ]
  },
  {
   "cell_type": "markdown",
   "id": "077a108d",
   "metadata": {},
   "source": [
    "## What you just did\n",
    "You just 'projected' a graph. 'Project' is an industry jargon term that means you:\n",
    "1. Pulled a bunch of nodes and/or relationships and properties out of the main graph\n",
    "2. Reconstructed a new graph in memory out of those\n",
    "\n",
    "Now, when you call 'gds.' and reference 'rec-simple', the operations you run will run on the 'rec-simple' projection -- not the main graph.\n",
    "\n",
    "## Why this is awesome\n",
    "1. You can spin up as many projections as you like, as often as you like and drop them when you're done.\n",
    "2. Your actions on the projection will have no effect on the main graph (unless you 'write' them).\n",
    "3. You can run more complex algorithms on subsets of nodes and relationships, rather than trying to analyse a subset within the entire database.\n",
    "\n",
    "In short, you are _almost_ literally 'projecting' a _new_ sub-graph image into memory."
   ]
  },
  {
   "cell_type": "markdown",
   "id": "8eafb7d3",
   "metadata": {},
   "source": [
    "![Graph projection vis](../docs/projection.png)"
   ]
  },
  {
   "cell_type": "markdown",
   "id": "c277f05f",
   "metadata": {},
   "source": [
    "### Implementing FastRP\n",
    "In this section you will:\n",
    "\n",
    "1. Create FastRP embeddings on the dataset. Click here to [go back to the FastRP explanation](#fastrp).\n",
    "2. Get stats before you commit them to the projection\n",
    "3. Mutate the projection with FastRP embeddings\n",
    "4. Write them back to the nodes in the database"
   ]
  },
  {
   "cell_type": "code",
   "execution_count": 32,
   "id": "54104cd9",
   "metadata": {},
   "outputs": [
    {
     "name": "stdout",
     "output_type": "stream",
     "text": [
      "Required memory for running FastRP: 8282 KiB\n"
     ]
    }
   ],
   "source": [
    "# We can also estimate memory of running algorithms like FastRP, so let's do that first\n",
    "result = gds.fastRP.mutate.estimate(\n",
    "    G,\n",
    "    mutateProperty=\"embedding\",\n",
    "    randomSeed=42,\n",
    "    embeddingDimension=64,\n",
    "    relationshipWeightProperty=\"rating\",\n",
    "    iterationWeights=[0.8, 1, 1, 1],\n",
    ")\n",
    "\n",
    "print(f\"Required memory for running FastRP: {result['requiredMemory']}\")"
   ]
  },
  {
   "cell_type": "code",
   "execution_count": 33,
   "id": "531747d9",
   "metadata": {},
   "outputs": [
    {
     "name": "stdout",
     "output_type": "stream",
     "text": [
      "Number of embedding vectors produced: 9816\n"
     ]
    }
   ],
   "source": [
    "# Now let's run FastRP and mutate our projected graph 'purchases' with the results\n",
    "result = gds.fastRP.mutate(\n",
    "    G,\n",
    "    mutateProperty = 'embedding',               # The property name that will be written\n",
    "    embeddingDimension = 64,                    # How specific you want the embeddings to be -- higher == more accuracy but also more data\n",
    "    relationshipWeightProperty = 'rating',      # The weight used to provide additional context. All relationships you used with FastRP must have this or it will not work.\n",
    "    iterationWeights = [0.8, 1, 1, 1],          # Each number tells the model how much influence to give closer nodes (0.8) or further nodes (1, 1, 1).\n",
    "    randomSeed = 42                             # The number to base the randomness off, for reproducibility\n",
    ")\n",
    "\n",
    "# Let's make sure we got an embedding for each node\n",
    "print(f\"Number of embedding vectors produced: {result['nodePropertiesWritten']}\")"
   ]
  },
  {
   "cell_type": "code",
   "execution_count": 34,
   "id": "41fd8fcb",
   "metadata": {},
   "outputs": [
    {
     "data": {
      "application/vnd.jupyter.widget-view+json": {
       "model_id": "61facf94ec234469bea77a2ae176ade1",
       "version_major": 2,
       "version_minor": 0
      },
      "text/plain": [
       " Knn:   0%|          | 0/100 [00:00<?, ?%/s]"
      ]
     },
     "metadata": {},
     "output_type": "display_data"
    },
    {
     "name": "stdout",
     "output_type": "stream",
     "text": [
      "Relationships produced: 19474\n",
      "Nodes compared: 9816\n",
      "Mean similarity: 0.9586150390822453\n"
     ]
    }
   ],
   "source": [
    "# Now we're going to write relationships back to the database, identifying the most similar nodes.\n",
    "result = gds.knn.write(\n",
    "    G,\n",
    "    nodeLabels = ['*'],                         # Specify the node labels to be included. '*' means all.\n",
    "    relationshipTypes = ['*'],                  # Specify the relationships to be included.\n",
    "    topK = 2,                                   # The number of 'closes to node' relationships you want to add.\n",
    "    concurrency = 1,                            # The number of concurrent threads used to run the algorithm\n",
    "    nodeProperties = ['embedding'],             # The property to write.\n",
    "    similarityCutoff = 0.5,                     # How similar two nodes must be to receive a relationship.\n",
    "    writeRelationshipType = 'SIMILAR',          # The reationship label to write.\n",
    "    writeProperty = 'score'                     # The property to write on that relationship.\n",
    ")\n",
    "print(f\"Relationships produced: {result['relationshipsWritten']}\")\n",
    "print(f\"Nodes compared: {result['nodesCompared']}\")\n",
    "print(f\"Mean similarity: {result['similarityDistribution']['mean']}\")"
   ]
  },
  {
   "cell_type": "markdown",
   "id": "6274582c",
   "metadata": {},
   "source": [
    "Now, we can use our new relationships to find similar pairs of..."
   ]
  },
  {
   "cell_type": "markdown",
   "id": "fa5d6e7e",
   "metadata": {},
   "source": [
    "Movies:"
   ]
  },
  {
   "cell_type": "code",
   "execution_count": null,
   "id": "c5e79bb2",
   "metadata": {},
   "outputs": [
    {
     "data": {
      "text/html": [
       "<div>\n",
       "<style scoped>\n",
       "    .dataframe tbody tr th:only-of-type {\n",
       "        vertical-align: middle;\n",
       "    }\n",
       "\n",
       "    .dataframe tbody tr th {\n",
       "        vertical-align: top;\n",
       "    }\n",
       "\n",
       "    .dataframe thead th {\n",
       "        text-align: right;\n",
       "    }\n",
       "</style>\n",
       "<table border=\"1\" class=\"dataframe\">\n",
       "  <thead>\n",
       "    <tr style=\"text-align: right;\">\n",
       "      <th></th>\n",
       "      <th>m1</th>\n",
       "      <th>m2</th>\n",
       "      <th>similarity</th>\n",
       "    </tr>\n",
       "  </thead>\n",
       "  <tbody>\n",
       "    <tr>\n",
       "      <th>0</th>\n",
       "      <td>Lamerica</td>\n",
       "      <td>Dangerous Ground</td>\n",
       "      <td>1.000000</td>\n",
       "    </tr>\n",
       "    <tr>\n",
       "      <th>1</th>\n",
       "      <td>Last Summer in the Hamptons</td>\n",
       "      <td>Day the Sun Turned Cold, The (Tianguo niezi)</td>\n",
       "      <td>1.000000</td>\n",
       "    </tr>\n",
       "    <tr>\n",
       "      <th>2</th>\n",
       "      <td>Shopping</td>\n",
       "      <td>Starship Troopers 3: Marauder</td>\n",
       "      <td>1.000000</td>\n",
       "    </tr>\n",
       "    <tr>\n",
       "      <th>3</th>\n",
       "      <td>Shopping</td>\n",
       "      <td>Dear White People</td>\n",
       "      <td>1.000000</td>\n",
       "    </tr>\n",
       "    <tr>\n",
       "      <th>4</th>\n",
       "      <td>Catwalk</td>\n",
       "      <td>Meatballs Part II</td>\n",
       "      <td>1.000000</td>\n",
       "    </tr>\n",
       "    <tr>\n",
       "      <th>...</th>\n",
       "      <td>...</td>\n",
       "      <td>...</td>\n",
       "      <td>...</td>\n",
       "    </tr>\n",
       "    <tr>\n",
       "      <th>17705</th>\n",
       "      <td>And the Ship Sails On (E la nave va)</td>\n",
       "      <td>American Splendor</td>\n",
       "      <td>0.737737</td>\n",
       "    </tr>\n",
       "    <tr>\n",
       "      <th>17706</th>\n",
       "      <td>Mei and the Kittenbus</td>\n",
       "      <td>Equilibrium</td>\n",
       "      <td>0.728011</td>\n",
       "    </tr>\n",
       "    <tr>\n",
       "      <th>17707</th>\n",
       "      <td>Why Do Fools Fall In Love?</td>\n",
       "      <td>Necessary Roughness</td>\n",
       "      <td>0.726736</td>\n",
       "    </tr>\n",
       "    <tr>\n",
       "      <th>17708</th>\n",
       "      <td>I'll Be Home For Christmas</td>\n",
       "      <td>Rounders</td>\n",
       "      <td>0.719668</td>\n",
       "    </tr>\n",
       "    <tr>\n",
       "      <th>17709</th>\n",
       "      <td>I'll Be Home For Christmas</td>\n",
       "      <td>Solo</td>\n",
       "      <td>0.716833</td>\n",
       "    </tr>\n",
       "  </tbody>\n",
       "</table>\n",
       "<p>17710 rows × 3 columns</p>\n",
       "</div>"
      ],
      "text/plain": [
       "                                         m1  \\\n",
       "0                                  Lamerica   \n",
       "1               Last Summer in the Hamptons   \n",
       "2                                  Shopping   \n",
       "3                                  Shopping   \n",
       "4                                   Catwalk   \n",
       "...                                     ...   \n",
       "17705  And the Ship Sails On (E la nave va)   \n",
       "17706                 Mei and the Kittenbus   \n",
       "17707            Why Do Fools Fall In Love?   \n",
       "17708            I'll Be Home For Christmas   \n",
       "17709            I'll Be Home For Christmas   \n",
       "\n",
       "                                                 m2  similarity  \n",
       "0                                  Dangerous Ground    1.000000  \n",
       "1      Day the Sun Turned Cold, The (Tianguo niezi)    1.000000  \n",
       "2                     Starship Troopers 3: Marauder    1.000000  \n",
       "3                                 Dear White People    1.000000  \n",
       "4                                 Meatballs Part II    1.000000  \n",
       "...                                             ...         ...  \n",
       "17705                             American Splendor    0.737737  \n",
       "17706                                   Equilibrium    0.728011  \n",
       "17707                           Necessary Roughness    0.726736  \n",
       "17708                                      Rounders    0.719668  \n",
       "17709                                          Solo    0.716833  \n",
       "\n",
       "[17710 rows x 3 columns]"
      ]
     },
     "execution_count": 35,
     "metadata": {},
     "output_type": "execute_result"
    }
   ],
   "source": [
    "gds.run_cypher(\n",
    "    \"\"\"\n",
    "        MATCH (n1:Movie)-[r:SIMILAR]->(n2:Movie)\n",
    "        RETURN n1.title AS m1, n2.title AS m2, r.score AS similarity\n",
    "        ORDER BY similarity DESCENDING, n1, n2\n",
    "    \"\"\"\n",
    ")"
   ]
  },
  {
   "cell_type": "markdown",
   "id": "1528b78e",
   "metadata": {},
   "source": [
    "Now let's check which users are most similar."
   ]
  },
  {
   "cell_type": "code",
   "execution_count": 36,
   "id": "88f0537f",
   "metadata": {},
   "outputs": [
    {
     "data": {
      "text/html": [
       "<div>\n",
       "<style scoped>\n",
       "    .dataframe tbody tr th:only-of-type {\n",
       "        vertical-align: middle;\n",
       "    }\n",
       "\n",
       "    .dataframe tbody tr th {\n",
       "        vertical-align: top;\n",
       "    }\n",
       "\n",
       "    .dataframe thead th {\n",
       "        text-align: right;\n",
       "    }\n",
       "</style>\n",
       "<table border=\"1\" class=\"dataframe\">\n",
       "  <thead>\n",
       "    <tr style=\"text-align: right;\">\n",
       "      <th></th>\n",
       "      <th>n1</th>\n",
       "      <th>n2</th>\n",
       "      <th>similarity</th>\n",
       "    </tr>\n",
       "  </thead>\n",
       "  <tbody>\n",
       "    <tr>\n",
       "      <th>0</th>\n",
       "      <td>Aaron Nelson</td>\n",
       "      <td>Katie Collins</td>\n",
       "      <td>0.993487</td>\n",
       "    </tr>\n",
       "    <tr>\n",
       "      <th>1</th>\n",
       "      <td>Katie Collins</td>\n",
       "      <td>Aaron Nelson</td>\n",
       "      <td>0.993487</td>\n",
       "    </tr>\n",
       "    <tr>\n",
       "      <th>2</th>\n",
       "      <td>Aaron Nelson</td>\n",
       "      <td>Christopher Sanders</td>\n",
       "      <td>0.991559</td>\n",
       "    </tr>\n",
       "    <tr>\n",
       "      <th>3</th>\n",
       "      <td>Christopher Sanders</td>\n",
       "      <td>Aaron Nelson</td>\n",
       "      <td>0.991559</td>\n",
       "    </tr>\n",
       "    <tr>\n",
       "      <th>4</th>\n",
       "      <td>Heather Morrison</td>\n",
       "      <td>Aaron Nelson</td>\n",
       "      <td>0.990221</td>\n",
       "    </tr>\n",
       "    <tr>\n",
       "      <th>...</th>\n",
       "      <td>...</td>\n",
       "      <td>...</td>\n",
       "      <td>...</td>\n",
       "    </tr>\n",
       "    <tr>\n",
       "      <th>783</th>\n",
       "      <td>Brian Townsend</td>\n",
       "      <td>John Herrera</td>\n",
       "      <td>0.861167</td>\n",
       "    </tr>\n",
       "    <tr>\n",
       "      <th>784</th>\n",
       "      <td>Terry Holder</td>\n",
       "      <td>Donna Ayala</td>\n",
       "      <td>0.852205</td>\n",
       "    </tr>\n",
       "    <tr>\n",
       "      <th>785</th>\n",
       "      <td>Andre Stark</td>\n",
       "      <td>Ashley Lloyd</td>\n",
       "      <td>0.851870</td>\n",
       "    </tr>\n",
       "    <tr>\n",
       "      <th>786</th>\n",
       "      <td>Terry Holder</td>\n",
       "      <td>Tracey Irwin</td>\n",
       "      <td>0.851741</td>\n",
       "    </tr>\n",
       "    <tr>\n",
       "      <th>787</th>\n",
       "      <td>Kimberly Lopez</td>\n",
       "      <td>Derrick Collier</td>\n",
       "      <td>0.851322</td>\n",
       "    </tr>\n",
       "  </tbody>\n",
       "</table>\n",
       "<p>788 rows × 3 columns</p>\n",
       "</div>"
      ],
      "text/plain": [
       "                      n1                   n2  similarity\n",
       "0           Aaron Nelson        Katie Collins    0.993487\n",
       "1          Katie Collins         Aaron Nelson    0.993487\n",
       "2           Aaron Nelson  Christopher Sanders    0.991559\n",
       "3    Christopher Sanders         Aaron Nelson    0.991559\n",
       "4       Heather Morrison         Aaron Nelson    0.990221\n",
       "..                   ...                  ...         ...\n",
       "783       Brian Townsend         John Herrera    0.861167\n",
       "784         Terry Holder          Donna Ayala    0.852205\n",
       "785          Andre Stark         Ashley Lloyd    0.851870\n",
       "786         Terry Holder         Tracey Irwin    0.851741\n",
       "787       Kimberly Lopez      Derrick Collier    0.851322\n",
       "\n",
       "[788 rows x 3 columns]"
      ]
     },
     "execution_count": 36,
     "metadata": {},
     "output_type": "execute_result"
    }
   ],
   "source": [
    "gds.run_cypher(\n",
    "    \"\"\"\n",
    "        MATCH (n1:User)-[r:SIMILAR]->(n2:User)\n",
    "        RETURN n1.name AS n1, n2.name AS n2, r.score AS similarity\n",
    "        ORDER BY similarity DESCENDING, n1, n2\n",
    "    \"\"\"\n",
    ")"
   ]
  },
  {
   "cell_type": "markdown",
   "id": "8f7f6297",
   "metadata": {},
   "source": [
    "We can likely assume that our 0.99 similarity pairs will have few differences in watching habits. \n",
    "\n",
    "But, what about our targets in the 0.8 - 0.9 range?\n",
    "\n",
    "Let's see if there are any movies that Nicholas Burke has watched, that Haley Cummings has not."
   ]
  },
  {
   "cell_type": "code",
   "execution_count": 37,
   "id": "55169898",
   "metadata": {},
   "outputs": [
    {
     "data": {
      "text/html": [
       "<div>\n",
       "<style scoped>\n",
       "    .dataframe tbody tr th:only-of-type {\n",
       "        vertical-align: middle;\n",
       "    }\n",
       "\n",
       "    .dataframe tbody tr th {\n",
       "        vertical-align: top;\n",
       "    }\n",
       "\n",
       "    .dataframe thead th {\n",
       "        text-align: right;\n",
       "    }\n",
       "</style>\n",
       "<table border=\"1\" class=\"dataframe\">\n",
       "  <thead>\n",
       "    <tr style=\"text-align: right;\">\n",
       "      <th></th>\n",
       "      <th>user_id</th>\n",
       "      <th>name</th>\n",
       "      <th>watched</th>\n",
       "      <th>recs</th>\n",
       "    </tr>\n",
       "  </thead>\n",
       "  <tbody>\n",
       "    <tr>\n",
       "      <th>0</th>\n",
       "      <td>4:8488d011-1dc6-48b6-8afb-0a66841ceb5d:9370</td>\n",
       "      <td>Haley Cummings</td>\n",
       "      <td>[(languages, year, imdbId, runtime, imdbRating...</td>\n",
       "      <td>[Renaissance, Requiem for a Dream]</td>\n",
       "    </tr>\n",
       "  </tbody>\n",
       "</table>\n",
       "</div>"
      ],
      "text/plain": [
       "                                       user_id            name  \\\n",
       "0  4:8488d011-1dc6-48b6-8afb-0a66841ceb5d:9370  Haley Cummings   \n",
       "\n",
       "                                             watched  \\\n",
       "0  [(languages, year, imdbId, runtime, imdbRating...   \n",
       "\n",
       "                                 recs  \n",
       "0  [Renaissance, Requiem for a Dream]  "
      ]
     },
     "execution_count": 37,
     "metadata": {},
     "output_type": "execute_result"
    }
   ],
   "source": [
    "gds.run_cypher(\n",
    "    \"\"\"\n",
    "        MATCH (u1:User {name: \"Haley Cummings\"})-[:SIMILAR]->(m:Movie)\n",
    "        WITH collect(m) as movies, u1\n",
    "        MATCH (u2:User {name: \"Nicholas Burke\"})-[:SIMILAR]->(m2:Movie)\n",
    "        WHERE NOT m2 IN movies\n",
    "        WITH u1, movies, collect(m2.title) AS recs\n",
    "        RETURN elementId(u1) AS user_id, u1.name AS name, movies AS watched, recs\n",
    "    \"\"\"\n",
    ")"
   ]
  },
  {
   "cell_type": "markdown",
   "id": "811b0d37",
   "metadata": {},
   "source": [
    "You can use this in tandem with Community Detection algorithms to get granular recommendations for similar groups of people. "
   ]
  },
  {
   "cell_type": "markdown",
   "id": "c59b549f",
   "metadata": {},
   "source": [
    "For a more complete list of algorithms you can use, check out the third notebook: 3_gds-client-algorithm-bank.ipynb"
   ]
  }
 ],
 "metadata": {
  "kernelspec": {
   "display_name": "gds_env (3.13.7)",
   "language": "python",
   "name": "python3"
  },
  "language_info": {
   "codemirror_mode": {
    "name": "ipython",
    "version": 3
   },
   "file_extension": ".py",
   "mimetype": "text/x-python",
   "name": "python",
   "nbconvert_exporter": "python",
   "pygments_lexer": "ipython3",
   "version": "3.13.7"
  }
 },
 "nbformat": 4,
 "nbformat_minor": 5
}
